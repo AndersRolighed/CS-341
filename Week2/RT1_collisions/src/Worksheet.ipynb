{
 "cells": [
  {
   "cell_type": "code",
   "execution_count": 21,
   "id": "d7457421",
   "metadata": {},
   "outputs": [],
   "source": [
    "import math\n",
    "import numpy as np\n",
    "from sklearn.preprocessing import normalize"
   ]
  },
  {
   "cell_type": "code",
   "execution_count": 28,
   "id": "d9c0bbdc",
   "metadata": {},
   "outputs": [
    {
     "name": "stdout",
     "output_type": "stream",
     "text": [
      "[0.57735027 0.57735027 0.57735027]\n",
      "0.6859943405700355\n",
      "-0.5288675134594812\n"
     ]
    },
    {
     "data": {
      "text/plain": [
       "-0.7709502574321709"
      ]
     },
     "execution_count": 28,
     "metadata": {},
     "output_type": "execute_result"
    }
   ],
   "source": [
    "n0 = [1,1,1]/np.linalg.norm([1,1,1])\n",
    "print(n0)\n",
    "offset = 0.5\n",
    "ray_direction = [0.1,0.1,1.0]/np.linalg.norm([0.1,0.1,1.0])\n",
    "ray_origin = [0.05,0,0]\n",
    "\n",
    "direction = np.dot(n0, ray_direction)\n",
    "print(direction)\n",
    "numerator = -(np.dot(n0, ray_origin)+offset)\n",
    "print(numerator)\n",
    "t = numerator/direction\n",
    "t"
   ]
  }
 ],
 "metadata": {
  "kernelspec": {
   "display_name": "Python 3 (ipykernel)",
   "language": "python",
   "name": "python3"
  },
  "language_info": {
   "codemirror_mode": {
    "name": "ipython",
    "version": 3
   },
   "file_extension": ".py",
   "mimetype": "text/x-python",
   "name": "python",
   "nbconvert_exporter": "python",
   "pygments_lexer": "ipython3",
   "version": "3.9.13"
  }
 },
 "nbformat": 4,
 "nbformat_minor": 5
}
